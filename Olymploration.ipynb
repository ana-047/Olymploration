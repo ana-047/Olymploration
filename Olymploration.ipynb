{
 "cells": [
  {
   "cell_type": "markdown",
   "metadata": {},
   "source": [
    "# Olymploration: Who wins the most medals at the Olympics?"
   ]
  },
  {
   "cell_type": "markdown",
   "metadata": {},
   "source": [
    "Rooted in rich history, symbolism and values associated with the Olympic games, Olympic medals are considered highly prestigious, often representing the pinnacle of athletic achievement. Winning an Olympic medal is a recognition of excellence on the international stage, and it often holds cultural and national significance. It is an opportunity for athletes from all nations, big or small, to transcend national boundaries and compete together. This tradition began in 1896 in Athens, Greece and with the exception of the games not being held due to the two world wars, the Summer games have been held every 4 years. The first Winter Olympics were held in Chamonix, France, in 1924. The goal of this project is to predict which country will win the most medals at the Olympic games. "
   ]
  },
  {
   "cell_type": "code",
   "execution_count": null,
   "metadata": {},
   "outputs": [],
   "source": [
    "#import packages needed\n",
    "\n",
    "import os\n",
    "import json\n",
    "import pandas as pd\n",
    "import seaborn as sns\n",
    "import matplotlib.pyplot as plt\n",
    "import re\n",
    "import os\n",
    "import glob2 as glob\n",
    "import missingno as msno\n",
    "import plotly.express as px\n",
    "import warnings\n",
    "warnings.filterwarnings(\"ignore\")\n",
    "from collections import Counter\n",
    "import numpy as np\n",
    "from sklearn.model_selection import train_test_split \n",
    "from sklearn.linear_model import LinearRegression \n",
    "from sklearn.metrics import mean_squared_error, mean_absolute_error \n",
    "from sklearn.metrics import r2_score\n",
    "from sklearn import preprocessing "
   ]
  },
  {
   "cell_type": "code",
   "execution_count": null,
   "metadata": {},
   "outputs": [],
   "source": [
    "pd.set_option('display.max_rows', None)\n",
    "pd.set_option('display.max_columns', None)"
   ]
  },
  {
   "cell_type": "code",
   "execution_count": null,
   "metadata": {},
   "outputs": [],
   "source": [
    "#read in files\n",
    "relative_path = \"data/raw/*.csv\" \n",
    "file_list = glob.glob(relative_path)\n",
    "\n",
    "dataframes = []\n",
    "\n",
    "\n",
    "if not file_list:\n",
    "    print(\"No CSV files found in the specified path.\")\n",
    "else:\n",
    "    file_list.sort() #to stop the order from changing\n",
    "\n",
    "    # Loop through the sorted file list and read each CSV file into a df\n",
    "    for file in file_list:\n",
    "        try:\n",
    "            df = pd.read_csv(file)\n",
    "            dataframes.append(df)\n",
    "        except Exception as e:\n",
    "            print(f\"Error reading file {file}: {e}\")"
   ]
  },
  {
   "cell_type": "code",
   "execution_count": null,
   "metadata": {},
   "outputs": [],
   "source": [
    " #name the dfs\n",
    "df_athletes = dataframes[0]\n",
    "df_event_results = dataframes[1]\n",
    "df_medals = dataframes[2]\n",
    "df_results = dataframes[3]\n",
    "df_country = dataframes[4]\n",
    "df_games = dataframes[5]\n",
    "df_gdp_mean = dataframes[6]\n",
    "df_pop_mean = dataframes[7]"
   ]
  },
  {
   "cell_type": "code",
   "execution_count": null,
   "metadata": {},
   "outputs": [],
   "source": [
    "dataframes = {'df_athletes': df_athletes, \n",
    "       'df_country': df_country, \n",
    "       'df_event_results': df_event_results, \n",
    "       'df_games': df_games, \n",
    "       'df_medals': df_medals, \n",
    "       'df_results': df_results,\n",
    "             'df_gdp_mean' : df_gdp_mean,\n",
    "             'df_pop_mean' : df_pop_mean}"
   ]
  },
  {
   "cell_type": "code",
   "execution_count": null,
   "metadata": {},
   "outputs": [],
   "source": [
    "#check missing values\n",
    "def check_missing_values(df):\n",
    "    return df.isnull().sum()\n",
    "\n",
    "\n",
    "# check_missing_values(df_event_results)\n",
    "# check_missing_values(df_country)\n",
    "# check_missing_values(df_games)\n",
    "# check_missing_values(df_athletes)\n",
    "# check_missing_values(df_medals)\n",
    "# check_missing_values(df_results)\n",
    "\n",
    "def count_na(df):\n",
    "    def helper(val):\n",
    "        return val == 'na'\n",
    "    return df.applymap(helper).sum() / df.shape[0]\n",
    "\n",
    "# for key, value in dataframes.items():\n",
    "#     print(f'\\n\\n{key}\\n\\n')\n",
    "#     print(count_na(value))"
   ]
  },
  {
   "cell_type": "code",
   "execution_count": null,
   "metadata": {},
   "outputs": [],
   "source": [
    "# do we have winter olympics available as much? \n",
    "dict(Counter([i[5:] for i in df_games['edition'].unique()]))"
   ]
  },
  {
   "cell_type": "code",
   "execution_count": null,
   "metadata": {},
   "outputs": [],
   "source": [
    "df_games[df_games['end_date'].isna()]\n",
    "\n",
    "#missing values for end_Date, start_date if the games were not held,\n",
    "#isHeld is NA if the games took place which. These missing values will not affect our analysis"
   ]
  },
  {
   "cell_type": "code",
   "execution_count": null,
   "metadata": {},
   "outputs": [],
   "source": [
    "# how many athletes take part by country\n",
    "df_event_results.groupby(['edition', 'country_noc'], as_index=False)['athlete'].count().head()"
   ]
  },
  {
   "cell_type": "code",
   "execution_count": null,
   "metadata": {},
   "outputs": [],
   "source": [
    "# one athlete can take part in several events\n",
    "df_event_results.groupby(['edition', 'country_noc'])['athlete'].unique().reset_index(name='unique_athletes').assign(athlete_count=lambda x: x['unique_athletes'].apply(len)).head()\n"
   ]
  },
  {
   "cell_type": "code",
   "execution_count": null,
   "metadata": {},
   "outputs": [],
   "source": [
    "# are the dates reasonable? \n",
    "#pd.to_datetime(df_games['year'], format='%Y').dt.year.sort_values(ascending=False)"
   ]
  },
  {
   "cell_type": "code",
   "execution_count": null,
   "metadata": {
    "scrolled": true
   },
   "outputs": [],
   "source": [
    "# inconsistencies between competition_date and start_date/end_date \n",
    "#df_games[['start_date', 'end_date', 'competition_date', 'isHeld']]"
   ]
  },
  {
   "cell_type": "code",
   "execution_count": null,
   "metadata": {},
   "outputs": [],
   "source": [
    "#total medals \n",
    "\n",
    "df_medals_agg = df_medals.groupby('country')[['gold', 'silver', 'bronze', 'total']].sum()\n",
    "df_medals_agg.describe()"
   ]
  },
  {
   "cell_type": "markdown",
   "metadata": {},
   "source": [
    "Historically, USA, the Soviet Union, Germany, Great Britain and France have won the most medals at the Olympics.The Soviet Union won the second most at 1204 followed by Germany at 1098. In terms of gold and silver medals won, USA leads by a mile.  USA should be considered an outlier while modeling.  The table above shows the descriptive statistics for the medals data. As you can see, the lower 75% of countries have historically won a total of only 98 medals which confirms that only a handful of countries dominate at the games."
   ]
  },
  {
   "cell_type": "markdown",
   "metadata": {},
   "source": [
    "<strong><i>Who has won the most medals? </i> </strong>"
   ]
  },
  {
   "cell_type": "code",
   "execution_count": null,
   "metadata": {},
   "outputs": [],
   "source": [
    "#historically, who won the most medals?? \n",
    "\n",
    "df_medals2 = df_medals.groupby('country_noc')[['total','gold', 'silver', 'bronze']].sum()\n",
    "df_medals2.reset_index(inplace=True)\n",
    "\n",
    "\n",
    "top5_rows = df_medals2.nlargest(5, 'total')\n",
    "\n",
    "top5_countries = top5_rows['country_noc'].tolist()\n",
    "top5_medals = top5_rows['total'].tolist()\n",
    "\n",
    "print(f\"The top 5 countries are: {top5_countries}\")\n",
    "print(f\"The corresponding counts are: {top5_medals}\")"
   ]
  },
  {
   "cell_type": "code",
   "execution_count": null,
   "metadata": {},
   "outputs": [],
   "source": [
    "# Melt the DataFrame to long format \n",
    "top_50 = df_medals2.nlargest(50, 'total')\n",
    "df_medals3 = top_50.drop(['total'], axis=1)\n",
    "df_medals_melted = pd.melt(df_medals3, id_vars='country_noc', var_name='Medal', value_name='Count')\n",
    "\n",
    "df_medals_melted.head()"
   ]
  },
  {
   "cell_type": "code",
   "execution_count": null,
   "metadata": {},
   "outputs": [],
   "source": [
    "#who won the most medals\n",
    "\n",
    "df_stacked = df_medals_melted.pivot_table(index='country_noc', columns='Medal', values='Count', fill_value=0)\n",
    "\n",
    "df_stacked_sorted = df_stacked.sum(axis=1).sort_values(ascending=False).index\n",
    "df_stacked = df_stacked.loc[df_stacked_sorted]\n",
    "\n",
    "\n",
    "colors = {'gold': 'gold', 'silver': 'silver', 'bronze': 'brown'}\n",
    "\n",
    "plt.figure(figsize=(12, 8))\n",
    "for medal_type, color in colors.items():\n",
    "    plt.bar(df_stacked.index, df_stacked[medal_type], color=color, label=medal_type)\n",
    "\n",
    "plt.title('Top 50 Countries by Medal Type: USA dominates')\n",
    "plt.xlabel('Country')\n",
    "plt.ylabel('Number of Medals')\n",
    "plt.legend(title='Medal Type', bbox_to_anchor=(1.05, 1), loc='upper left')\n",
    "plt.xticks(rotation=45, ha='right') \n",
    "plt.show()"
   ]
  },
  {
   "cell_type": "markdown",
   "metadata": {},
   "source": [
    "<strong><i> Has anything changed in the past 20 years?</i></strong>"
   ]
  },
  {
   "cell_type": "code",
   "execution_count": null,
   "metadata": {},
   "outputs": [],
   "source": [
    "#has anything changed in the past 20 years?\n",
    "\n",
    "#filter df to include 2004 Athens games onwards\n",
    "\n",
    "df_last20 = df_medals[['year', 'country', 'total']].copy()\n",
    "\n",
    "df_last20 = df_last20.loc[df_last20['year'] >= 1992]\n",
    "df_last20.head()"
   ]
  },
  {
   "cell_type": "code",
   "execution_count": null,
   "metadata": {},
   "outputs": [],
   "source": [
    "total_by_country = df_last20.groupby('country')['total'].sum()\n",
    "top_10_countries = total_by_country.sort_values(ascending=False).head(12)\n",
    "top_10_countries_list = total_by_country.sort_values(ascending=False).head(12).index.tolist()\n",
    "\n",
    "recent_games  = df_last20[df_last20['country'].isin(top_10_countries_list)]\n",
    "\n",
    "recent_games.head()"
   ]
  },
  {
   "cell_type": "code",
   "execution_count": null,
   "metadata": {},
   "outputs": [],
   "source": [
    "\n",
    "plt.figure(figsize=(12, 8))\n",
    "sns.lineplot(x='year', y='total', hue='country', data=recent_games, marker='o', markersize=8)\n",
    "\n",
    "plt.xticks(recent_games['year'].unique())\n",
    "\n",
    "plt.title('Total Medals by Country in the past 20 years')\n",
    "plt.xlabel('Year')\n",
    "plt.ylabel('Total Medals')\n",
    "plt.legend(title='Country', bbox_to_anchor=(1.05, 1), loc='upper left')  \n",
    "plt.xticks(rotation=45, ha='right')  \n",
    "plt.show()"
   ]
  },
  {
   "cell_type": "markdown",
   "metadata": {},
   "source": [
    "In the past 30 years, USA continues to remain extremely dominant at the Summer Olympics (first Summer Olympics in the graph took place in 1992 and first Winter Olympics took place in 1994). The Russian Federation/Soviet Union which historically had the second most medals is not as dominant as before. In the past 4 editions of the Summer games, China has won the second most number of medals, bypassing Russia. Great Britain has also steadily increased their medal count in the past 30 years.\n",
    "However at the Winter Olympics, Norway's athletes have been outpacing the U.S. and Germany.\n"
   ]
  },
  {
   "cell_type": "markdown",
   "metadata": {},
   "source": [
    "<strong> <i>Do GDP and Population have an impact on the number of medals won?<i><strong>"
   ]
  },
  {
   "cell_type": "code",
   "execution_count": null,
   "metadata": {},
   "outputs": [],
   "source": [
    "#GDP and population - using the past 10 year avg as a proxy as data is available 1960 onwards for some countries,\n",
    "#while data for some is available even later\n",
    "df_country_gdp = pd.read_csv('data/raw/country_gdp.csv')\n",
    "df_country_gdp.head(10)"
   ]
  },
  {
   "cell_type": "code",
   "execution_count": null,
   "metadata": {},
   "outputs": [],
   "source": [
    "df_country_gdp.drop(['Indicator Name', 'Indicator Code'], axis=1, inplace=True)"
   ]
  },
  {
   "cell_type": "code",
   "execution_count": null,
   "metadata": {},
   "outputs": [],
   "source": [
    "df_country2 = pd.merge(df_country, df_country_gdp, how='left', left_on='country', right_on='Country Name')\n",
    "\n",
    "exclude_columns = ['country_noc', 'country', 'Country Code', 'Country Name']\n",
    "numeric_columns = df_country2.select_dtypes(include=['number']).columns\n",
    "\n",
    "# Filter out columns to exclude from the division\n",
    "columns_to_divide = numeric_columns.difference(exclude_columns)\n",
    "\n",
    "# Perform division only on numeric columns\n",
    "df_country2[columns_to_divide] = df_country2[columns_to_divide].div(1e9)\n",
    "\n",
    "df_country2.head()\n"
   ]
  },
  {
   "cell_type": "code",
   "execution_count": null,
   "metadata": {},
   "outputs": [],
   "source": [
    "df_country2.iloc[:, -10:] = df_country2.iloc[:, -10:].apply(pd.to_numeric, errors='coerce')\n",
    "\n",
    "# # Calculate the mean of the last 10 columns while ignoring NaN values\n",
    "df_country2['mean_gdp_last_10yr_bn'] = df_country2.iloc[:, -10:].mean(axis=1, skipna=True)\n",
    "\n",
    "df_country2.head()"
   ]
  },
  {
   "cell_type": "code",
   "execution_count": null,
   "metadata": {},
   "outputs": [],
   "source": [
    "missing_values_gdp = df_country2['mean_gdp_last_10yr_bn'].isnull().sum()\n",
    "missing_values_gdp"
   ]
  },
  {
   "cell_type": "markdown",
   "metadata": {},
   "source": [
    "We would like to use GDP and Population  as additional independent variables in our models and examine whether it has an impact on the medals tally or not. One of the limitations we are facing with the World Bank data is that it is available only 1960 onwards with data for some countries being available much later. The data for the past 10 years is available and we plan on using the 10yr mean as a proxy for GDP in our model. An alternative way is to create dummy variables after categorizing the countries based on the range of their population, eg- high, medium, low. The chart below shows the countries with the highest mean GDP over the past 10 years and  we guess that GDP  is positively correlated with the medals count.  "
   ]
  },
  {
   "cell_type": "code",
   "execution_count": null,
   "metadata": {},
   "outputs": [],
   "source": [
    "df_sorted = df_country2.sort_values(by='mean_gdp_last_10yr_bn', ascending=False)\n",
    "top_10_values = df_sorted.head(10)\n",
    "\n",
    "plt.barh(top_10_values['country_noc'], top_10_values['mean_gdp_last_10yr_bn'], color='teal')\n",
    "plt.xlabel('GDP($bn)')\n",
    "plt.title('Mean GDP over the last 10 years by country (in $bn), USA leads...')\n",
    "plt.gca().invert_yaxis()\n",
    "plt.show()"
   ]
  },
  {
   "cell_type": "code",
   "execution_count": null,
   "metadata": {},
   "outputs": [],
   "source": [
    "df_pop = pd.read_csv('data/raw/country_population.csv')\n",
    "df_pop.drop(['Country Name',  'Indicator Name', 'Indicator Code'], axis=1, inplace=True)\n",
    "df_pop.head()"
   ]
  },
  {
   "cell_type": "code",
   "execution_count": null,
   "metadata": {},
   "outputs": [],
   "source": [
    "#df_pop.drop(['Indicator Name', 'Indicator Code'], axis=1, inplace=True)\n",
    "df_pop2 = pd.merge(df_country, df_pop, how='left', left_on='country', right_on='Country_Updated')\n",
    "df_pop2.head(3)"
   ]
  },
  {
   "cell_type": "code",
   "execution_count": null,
   "metadata": {},
   "outputs": [],
   "source": [
    "exclude_columns = ['country_noc', 'country', 'Country Code', 'Country_Updated']\n",
    "df_pop2.loc[:, df_pop2.columns.difference(exclude_columns)] /= 1e6 # convert to millions "
   ]
  },
  {
   "cell_type": "code",
   "execution_count": null,
   "metadata": {},
   "outputs": [],
   "source": [
    "#following a similar approach of taking the 10 year mean\n",
    "df_pop2['mean_pop_last_10yr_mm'] = df_pop2.iloc[:, -10:].mean(axis=1)\n",
    "df_country_pop = df_pop2[['country_noc', 'country', 'Country Code', 'mean_pop_last_10yr_mm']].copy()\n",
    "#df_country_pop.to_clipboard(index=False)"
   ]
  },
  {
   "cell_type": "code",
   "execution_count": null,
   "metadata": {},
   "outputs": [],
   "source": [
    "missing_values_pop = df_country_pop['mean_pop_last_10yr_mm'].isnull().sum()\n",
    "missing_values_pop"
   ]
  },
  {
   "cell_type": "markdown",
   "metadata": {},
   "source": [
    "We followed a similar approach for Population and calculated the 10yr mean as a proxy. Apart from China, USA, Russia, Japan, other countries with the highest mean population generally do not do well at the Games. Having a larger population could also mean less resources to invest in training athletes and could in fact, have a negative impact on medals won."
   ]
  },
  {
   "cell_type": "code",
   "execution_count": null,
   "metadata": {},
   "outputs": [],
   "source": [
    "df_sorted_pop = df_country_pop.sort_values(by='mean_pop_last_10yr_mm', ascending=False)\n",
    "top_10_values_pop = df_sorted_pop.head(10)\n",
    "\n",
    "\n",
    "plt.barh(top_10_values_pop['country_noc'], top_10_values_pop['mean_pop_last_10yr_mm'], color='salmon')\n",
    "plt.xlabel('Population($MM)')\n",
    "plt.title('Mean Population over the last 10 years by country')\n",
    "plt.gca().invert_yaxis()\n",
    "plt.show()"
   ]
  },
  {
   "cell_type": "code",
   "execution_count": null,
   "metadata": {},
   "outputs": [],
   "source": [
    "#group by total medals for each country\n",
    "\n",
    "df_grouped = df_medals.groupby('country_noc')['total'].sum()\n",
    "df_grouped = pd.DataFrame(df_grouped)\n",
    "df_grouped.reset_index(inplace=True)"
   ]
  },
  {
   "cell_type": "code",
   "execution_count": null,
   "metadata": {},
   "outputs": [],
   "source": [
    "#check correlation between variables and medals tally\n",
    "\n",
    "df_merged = pd.merge(df_grouped, df_country2[['country_noc','mean_gdp_last_10yr_bn']\n",
    "                                                                        ],how='left', on='country_noc')\n",
    "\n",
    "df_merged2 = pd.merge(df_merged, df_country_pop[['country_noc','mean_pop_last_10yr_mm']\n",
    "                                                                        ],how='left', on='country_noc')\n",
    "\n",
    "\n",
    "df_merged2.head()\n"
   ]
  },
  {
   "cell_type": "code",
   "execution_count": null,
   "metadata": {},
   "outputs": [],
   "source": [
    "#exclude China, India, USA\n",
    "excluded_countries = ['CHN', 'IND', 'USA']\n",
    "df_filtered = df_merged2[~df_merged2['country_noc'].isin(excluded_countries)]\n",
    "sns.scatterplot(y='total', x='mean_pop_last_10yr_mm', data=df_filtered, color='salmon')\n",
    "\n",
    "# Add labels and title\n",
    "plt.xlabel('Population (in MM)')\n",
    "plt.ylabel('Medals Won')\n",
    "plt.title('Population vs Medals won')\n",
    "\n",
    "# Show the plot\n",
    "plt.show()"
   ]
  },
  {
   "cell_type": "markdown",
   "metadata": {},
   "source": [
    "We excluded China and USA along with India which has the second highest 10 yr mean population and it appears that some countries with smaller populations have won more medals. However, there are also countries that are very tiny, have very small populations and hence, have very low participation at the Olympics."
   ]
  },
  {
   "cell_type": "code",
   "execution_count": null,
   "metadata": {},
   "outputs": [],
   "source": [
    "sns.scatterplot(y='total', x='mean_gdp_last_10yr_bn', data=df_filtered, color='teal')\n",
    "\n",
    "# Add labels and title\n",
    "plt.xlabel('GDP (in $bn)')\n",
    "plt.ylabel('Medals Won')\n",
    "plt.title('GDP vs Medals won')\n",
    "\n",
    "# Show the plot\n",
    "plt.show()"
   ]
  },
  {
   "cell_type": "markdown",
   "metadata": {},
   "source": [
    "The scatter plot confirms that GDP is positvely correlated with medals one. We still have countries with missing GDP but they are either very small or nations that had a name change, we will be excluding those records."
   ]
  },
  {
   "cell_type": "code",
   "execution_count": null,
   "metadata": {},
   "outputs": [],
   "source": [
    "# excluded_countries = ['USA']\n",
    "# df_filtered = df_merged3[~df_merged3['country_noc'].isin(excluded_countries)]\n",
    "\n",
    "# sns.scatterplot(y='total', x='total_athletes', data=df_filtered, color='mediumpurple')\n",
    "\n",
    "\n",
    "# # Add labels and title\n",
    "# plt.xlabel('Contingent Size')\n",
    "# plt.ylabel('Medals Won')\n",
    "# plt.title('Contingent Size vs Medals won')\n",
    "\n",
    "# # Show the plot\n",
    "# plt.show()"
   ]
  },
  {
   "cell_type": "code",
   "execution_count": null,
   "metadata": {},
   "outputs": [],
   "source": [
    "# join athletes with events to get the sport for each athlete, it is not in df_athletes\n",
    "\n",
    "df_athletes_sport = pd.merge(df_athletes[['name', 'sex', 'height', 'weight']],\n",
    "                              df_event_results[['athlete', 'sport']], left_on='name', right_on='athlete', how='left')\n",
    "\n",
    "df_athletes_sport.head()"
   ]
  },
  {
   "cell_type": "code",
   "execution_count": null,
   "metadata": {},
   "outputs": [],
   "source": [
    "df_athletes_sport = df_athletes_sport.dropna()"
   ]
  },
  {
   "cell_type": "code",
   "execution_count": null,
   "metadata": {},
   "outputs": [],
   "source": [
    "df_athletes_sport['height'] = pd.to_numeric(df_athletes_sport['height'], errors='coerce')  \n",
    "df_athletes_sport['weight'] = pd.to_numeric(df_athletes_sport['weight'], errors='coerce')  \n",
    "\n",
    "# Group by 'sport' and calculate the average height and weight\n",
    "average_data = df_athletes_sport.groupby(['sport', 'sex'])[['height', 'weight']].mean().reset_index()\n",
    "\n",
    "#select a few sports \n",
    "\n",
    "select_sports = ['Archery', 'Artistic Gymnastics', 'Athletics',\n",
    "                'Badminton', 'Boxing', 'Cross Country Skiing',\n",
    "                'Cycling Track', 'Diving', 'Equestrian Dressage',\n",
    "                'Fencing', 'Hockey', 'Judo',\n",
    "                 'Rowing', 'Shooting', 'Handball',\n",
    "                 'Swimming', 'Triathlon', 'Volleyball',\n",
    "                 'Weightlifting', 'Wrestling', 'Basketball', 'Table Tennis', 'Tennis'\n",
    "                ]\n",
    "\n",
    "#keep only selected sports\n",
    "mask = average_data['sport'].isin(select_sports) \n",
    "selected_df = average_data[mask]"
   ]
  },
  {
   "cell_type": "markdown",
   "metadata": {},
   "source": [
    "<strong><i>How does an athlete’s height and weight affect their choice of sport?<strong><i>"
   ]
  },
  {
   "cell_type": "code",
   "execution_count": null,
   "metadata": {},
   "outputs": [],
   "source": [
    "# Sort  in descending order\n",
    "average_height_by_sport = selected_df.sort_values(by='height', ascending=False)\n",
    "average_height_by_sport.dropna(inplace=True)\n",
    "\n",
    "colors = {'Female': 'thistle', 'Male': 'skyblue'}\n",
    "\n",
    "plt.figure(figsize=(5, 5))\n",
    "sns.barplot(y='sport', x='height', hue='sex', data=average_height_by_sport, palette=colors)\n",
    "plt.title('AvHeight by Sport: Basketball players are the tallest')\n",
    "plt.xlabel('Average Height in cm')\n",
    "plt.ylabel('')\n",
    "plt.legend(title='Gender', bbox_to_anchor=(1.05, 1), loc='upper left')\n",
    "plt.subplots_adjust(right=0.75)\n",
    "plt.show()"
   ]
  },
  {
   "cell_type": "code",
   "execution_count": null,
   "metadata": {},
   "outputs": [],
   "source": [
    "# Sort weight in descending order\n",
    "average_weight_by_sport = selected_df.sort_values(by='weight', ascending=False)\n",
    "average_weight_by_sport.dropna(inplace=True)\n",
    "\n",
    "colors = {'Female': 'thistle', 'Male': 'skyblue'}\n",
    "\n",
    "plt.figure(figsize=(5, 5))\n",
    "sns.barplot(y='sport', x='weight', hue='sex', data=average_weight_by_sport, palette=colors)\n",
    "plt.title('Average Weight by Sport: Basketball players also weigh the most')\n",
    "plt.xlabel('Average Weight in kg')\n",
    "plt.ylabel('')\n",
    "plt.legend(title='Gender', bbox_to_anchor=(1.05, 1), loc='upper left')\n",
    "plt.subplots_adjust(right=0.75)\n",
    "plt.show()"
   ]
  },
  {
   "cell_type": "markdown",
   "metadata": {},
   "source": [
    "We selected some of the most popular events at the Olympics to see if there is any obvious trend in the height and weight of athletes competing in those sports. The charts above show the average height and weight of all the athletes playing a particular sport, missing records were excluded. Basketball players tend to be the tallest and also weigh the most but the difference in the average height across sports is minimal for both males and females. On the other hand, the difference in weight between males and females across the different sports is more obvious. Furthermore, gymnasts, boxers and divers weigh less than athletes playing basketball or handball."
   ]
  },
  {
   "cell_type": "markdown",
   "metadata": {},
   "source": [
    "<strong><i>Which countries do better at team vs individual events?</i></strong>"
   ]
  },
  {
   "cell_type": "code",
   "execution_count": null,
   "metadata": {},
   "outputs": [],
   "source": [
    "#which countries do better at team vs individual events\n",
    "\n",
    "df_event_results2 = df_event_results[df_event_results['medal'] != 'na']\n",
    "df_event_results2.head()"
   ]
  },
  {
   "cell_type": "code",
   "execution_count": null,
   "metadata": {},
   "outputs": [],
   "source": [
    "#group by country\n",
    "\n",
    "df_team = df_event_results2.groupby(['country_noc', 'isTeamSport']).result_id.count().reset_index()\n",
    "df_team = pd.DataFrame(df_team)\n",
    "df_team"
   ]
  },
  {
   "cell_type": "code",
   "execution_count": null,
   "metadata": {},
   "outputs": [],
   "source": [
    "#filter by team vs individual\n",
    "filtered_data = df_team[df_team['isTeamSport'] == False]\n",
    "\n",
    "top_20_countries = filtered_data.groupby('country_noc')['result_id'].sum().nlargest(20).index\n",
    "\n",
    "top_20_data = filtered_data[filtered_data['country_noc'].isin(top_20_countries)]\n",
    "\n",
    "top_20_data = top_20_data.sort_values(by='result_id', ascending=False)\n",
    "\n",
    "#lollipop chart\n",
    "plt.figure(figsize=(5, 3))\n",
    "plt.stem(top_20_data['country_noc'], top_20_data['result_id'], basefmt='k-', use_line_collection=True, markerfmt='purple',\n",
    "         linefmt='purple')\n",
    "plt.title('Top 20 Countries winning Individual Events')\n",
    "plt.xlabel('Country')\n",
    "plt.ylabel('Events won')\n",
    "plt.xticks(rotation=45, ha='right')\n",
    "\n",
    "\n",
    "plt.show()"
   ]
  },
  {
   "cell_type": "code",
   "execution_count": null,
   "metadata": {},
   "outputs": [],
   "source": [
    "filtered_data2 = df_team[df_team['isTeamSport'] == True]\n",
    "\n",
    "top_20_countries2 = filtered_data2.groupby('country_noc')['result_id'].sum().nlargest(20).index\n",
    "\n",
    "\n",
    "top_20_data2 = filtered_data2[filtered_data2['country_noc'].isin(top_20_countries2)]\n",
    "\n",
    "# Sort the data for better visualization\n",
    "top_20_data2 = top_20_data2.sort_values(by='result_id', ascending=False)\n",
    "\n",
    "# Create a lollipop chart\n",
    "plt.figure(figsize=(5,3))\n",
    "plt.stem(top_20_data2['country_noc'], top_20_data2['result_id'], basefmt='k-', use_line_collection=True, markerfmt='purple',\n",
    "         linefmt='purple')\n",
    "plt.title('Top 20 Countries winning Team Events')\n",
    "plt.xlabel('Country')\n",
    "plt.ylabel('Events won')\n",
    "plt.xticks(rotation=45, ha='right')\n",
    "\n",
    "# Show the plot\n",
    "plt.show()"
   ]
  },
  {
   "cell_type": "markdown",
   "metadata": {},
   "source": [
    "While the USA is an outlier doing well at both individual and team events, Great Britain comes next in terms of most medals won at team events. Countries like Canada, Australia, the Netherlands among others also happen to do better at team events than individual events."
   ]
  },
  {
   "cell_type": "markdown",
   "metadata": {},
   "source": [
    "<strong><i>Who is the greatest Olympian of all time?<strong><i>"
   ]
  },
  {
   "cell_type": "code",
   "execution_count": null,
   "metadata": {},
   "outputs": [],
   "source": [
    "#greatest Olympian of all time \n",
    "\n",
    "greatest_olympian = df_event_results2.groupby(['athlete', 'sport', 'country_noc']).result_id.count().sort_values(ascending=False)\n",
    "greatest_olympian = pd.DataFrame(greatest_olympian)\n",
    "greatest_olympian.rename({'result_id':'medals_won'}, axis=1, inplace=True)\n",
    "greatest_olympian.reset_index(inplace=True)\n",
    "greatest_olympian.head()"
   ]
  },
  {
   "cell_type": "code",
   "execution_count": null,
   "metadata": {},
   "outputs": [],
   "source": [
    "greatest_olympian.info()"
   ]
  },
  {
   "cell_type": "code",
   "execution_count": null,
   "metadata": {},
   "outputs": [],
   "source": [
    "greatest_olympian2 = greatest_olympian.sort_values(by='medals_won', ascending=False)\n",
    "greatest_olympian2 = greatest_olympian2.head(20)\n",
    "plt.figure(figsize=(6, 5))\n",
    "bars = plt.barh(greatest_olympian2['athlete'], greatest_olympian2['medals_won'], color='darkslateblue')\n",
    "plt.xlabel('Medals Won')\n",
    "plt.ylabel('Athlete')\n",
    "plt.title('Greatest Olympians of All Time by Medals Won')\n",
    "\n",
    "for bar, label in zip(bars, greatest_olympian2['country_noc']):\n",
    "    plt.text(bar.get_width() + 0.2, bar.get_y() + bar.get_height() / 2, label, ha='left', va='center', color='black', fontsize=8)\n",
    "\n",
    "plt.show()"
   ]
  },
  {
   "cell_type": "markdown",
   "metadata": {},
   "source": [
    "Michael Phelps is well-known as the greatest Olympian of all time but in second place is Larisa Latynina, a gymnast from the former Soviet Union who won 18 medals. 25% of the top 20 are from the USA."
   ]
  },
  {
   "cell_type": "markdown",
   "metadata": {},
   "source": [
    "<strong><i>Which gender wins more medals? </strong></i>"
   ]
  },
  {
   "cell_type": "code",
   "execution_count": null,
   "metadata": {},
   "outputs": [],
   "source": [
    "#which gender wins more medals\n",
    "gender_medals = pd.merge(df_athletes[['name', 'sex']], df_event_results2[['athlete','medal', 'sport','result_id']],\n",
    "                        left_on=\"name\", right_on=\"athlete\")\n",
    "gender_medals2 = gender_medals.groupby('sex').athlete.count()\n",
    "gender_medals2=pd.DataFrame(gender_medals2)\n",
    "gender_medals2.reset_index(inplace=True)"
   ]
  },
  {
   "cell_type": "code",
   "execution_count": null,
   "metadata": {},
   "outputs": [],
   "source": [
    "plt.figure(figsize=(4, 4))\n",
    "sns.set(style=\"whitegrid\")\n",
    "plt.pie(gender_medals2['athlete'], labels=gender_medals2.sex, autopct='%1.1f%%', startangle=90,\n",
    "        colors=['thistle', 'skyblue'])\n",
    "\n",
    "\n",
    "plt.title('Medal Winners by Gender')\n",
    "\n",
    "plt.show()\n"
   ]
  },
  {
   "cell_type": "code",
   "execution_count": null,
   "metadata": {},
   "outputs": [],
   "source": [
    "#gold medal winners\n",
    "\n",
    "gender_gold = gender_medals[gender_medals['medal'] == 'Gold']\n",
    "\n",
    "gender_gold2 = gender_gold.groupby('sex').athlete.count()\n",
    "gender_gold2=pd.DataFrame(gender_gold2)\n",
    "gender_gold2.reset_index(inplace=True)\n",
    "gender_gold2"
   ]
  },
  {
   "cell_type": "code",
   "execution_count": null,
   "metadata": {},
   "outputs": [],
   "source": [
    "plt.figure(figsize=(4, 4))\n",
    "sns.set(style=\"whitegrid\")\n",
    "plt.pie(gender_gold2['athlete'], labels=gender_gold2.sex, autopct='%1.1f%%', startangle=90,\n",
    "        colors=['thistle', 'skyblue'])\n",
    "\n",
    "\n",
    "plt.title('Gold Medal Winners by Gender')\n",
    "\n",
    "plt.show()\n"
   ]
  },
  {
   "cell_type": "markdown",
   "metadata": {},
   "source": [
    "72% of all medal winners are Male, with a similar stat for gold medal winners. This is expected given that the historical participation rate of female athletes  is 26%."
   ]
  },
  {
   "cell_type": "code",
   "execution_count": null,
   "metadata": {},
   "outputs": [],
   "source": [
    "gender_all = df_athletes.groupby('sex')['name'].count()\n",
    "gender_all"
   ]
  },
  {
   "cell_type": "code",
   "execution_count": null,
   "metadata": {},
   "outputs": [],
   "source": [
    "# how many athletes take part by country\n",
    "df_event_results.groupby(['edition', 'country_noc'], as_index=False)['athlete'].count().head()"
   ]
  },
  {
   "cell_type": "code",
   "execution_count": null,
   "metadata": {},
   "outputs": [],
   "source": [
    "# one athlete can take part in several events\n",
    "df_event_results.groupby(['edition', 'country_noc'])['athlete'].unique().reset_index(name='unique_athletes').assign(athlete_count=lambda x: x['unique_athletes'].apply(len)).head()\n"
   ]
  },
  {
   "cell_type": "markdown",
   "metadata": {},
   "source": [
    "Merge: Join medals and games"
   ]
  },
  {
   "cell_type": "code",
   "execution_count": null,
   "metadata": {},
   "outputs": [],
   "source": [
    "# df_medals['edition_id'].nunique()\n",
    "# df_games['edition_id'].nunique()\n",
    "\n",
    "\n",
    "# drop war and future events\n",
    "df_games = df_games.drop(df_games[~df_games['edition_id'].isin(df_medals['edition_id'])].index)\n",
    "\n",
    "\n",
    "df_games_medals = pd.merge(df_medals, pd.merge(df_games, df_country, on='country_noc', how='left'), on=['edition_id', 'edition', 'year'], how='left',\n",
    "        suffixes=('_performing', '_host'))\n",
    "df_games_medals.head()"
   ]
  },
  {
   "cell_type": "code",
   "execution_count": null,
   "metadata": {},
   "outputs": [],
   "source": [
    "#special or one time events\n",
    "df_games_medals[(df_games_medals['edition_id'] == 4)|(df_games_medals['edition_id'] == 48)]\n",
    "\n",
    "# drop the one-time events\n",
    "df_games_medals = df_games_medals.drop(df_games_medals[(df_games_medals['edition_id'] == 4)|\n",
    "                                                       (df_games_medals['edition_id'] == 48)].index)"
   ]
  },
  {
   "cell_type": "code",
   "execution_count": null,
   "metadata": {},
   "outputs": [],
   "source": [
    "df_games_medals.describe()"
   ]
  },
  {
   "cell_type": "code",
   "execution_count": null,
   "metadata": {},
   "outputs": [],
   "source": [
    "#some more eda\n",
    "\n",
    "def eda_visualization(df):\n",
    "    numerical_columns = df.select_dtypes(include='number').columns\n",
    "    categorical_columns = df.select_dtypes(exclude='number').columns\n",
    "\n",
    "    for column in numerical_columns:\n",
    "        plt.figure(figsize=(12, 4))\n",
    "        \n",
    "        plt.subplot(1, 2, 1)\n",
    "        sns.histplot(df[column], kde=True)\n",
    "        plt.title(f'Distribution of {column}')\n",
    "        \n",
    "        plt.subplot(1, 2, 2)\n",
    "        ax = sns.boxplot(data=df, x=column, showfliers=False)\n",
    "        plt.title(f'Boxplot of {column} Without Outliers')\n",
    "        \n",
    "        def add_quartile_labels(ax):\n",
    "            for line in ax.lines:\n",
    "                x, y = line.get_xydata()[0]  \n",
    "                ax.text(x, y, f\"{x:.0f}\", ha='left', va='center')\n",
    "        \n",
    "        add_quartile_labels(ax)\n",
    "\n",
    "        plt.tight_layout()\n",
    "        plt.show()\n",
    "\n",
    "    for column in categorical_columns:\n",
    "        plt.figure(figsize=(8, 4))\n",
    "        categories_to_show = df[column].value_counts().index[:30]\n",
    "\n",
    "        if not categories_to_show.empty:\n",
    "            sns.countplot(data=df[df[column].isin(categories_to_show)], x=column, order=categories_to_show)\n",
    "\n",
    "            for idx, count in enumerate(df[df[column].isin(categories_to_show)][column].value_counts()):\n",
    "                plt.text(idx, count + 1, str(count), ha='center', va='bottom', fontsize=8)\n",
    "\n",
    "            plt.title(f'Count of each category in {column}')\n",
    "            plt.xticks(rotation=90, ha='right', fontsize=7)\n",
    "            plt.tight_layout()\n",
    "            plt.show()\n",
    "        else:\n",
    "            print(f\"No categories to show for column {column}.\")"
   ]
  },
  {
   "cell_type": "code",
   "execution_count": null,
   "metadata": {
    "scrolled": true
   },
   "outputs": [],
   "source": [
    "eda_visualization(df_games_medals)"
   ]
  },
  {
   "cell_type": "code",
   "execution_count": null,
   "metadata": {},
   "outputs": [],
   "source": [
    "#further analyze df_games_medals \n",
    "df_comparison = df_games_medals.groupby(['country_host', 'edition', 'year', 'country_performing'], as_index=False)[['total', 'gold', 'silver', 'bronze']].sum() \\\n",
    "    .groupby('edition', group_keys=False) \\\n",
    "    .apply(lambda x: x.nlargest(8,'total'))"
   ]
  },
  {
   "cell_type": "code",
   "execution_count": null,
   "metadata": {},
   "outputs": [],
   "source": [
    "df_comparison.head()"
   ]
  },
  {
   "cell_type": "code",
   "execution_count": null,
   "metadata": {},
   "outputs": [],
   "source": [
    "#add dummy variabe for season\n",
    "df_comparison['season'] = [1 if 'Winter' in edition else 0 for edition in df_comparison['edition']]"
   ]
  },
  {
   "cell_type": "code",
   "execution_count": null,
   "metadata": {},
   "outputs": [],
   "source": [
    "#add another dummy variable for is_host\n",
    "\n",
    "df_comparison['is_host'] = np.where(df_comparison['country_host'] == df_comparison['country_performing'], 1, 0)"
   ]
  },
  {
   "cell_type": "code",
   "execution_count": null,
   "metadata": {},
   "outputs": [],
   "source": [
    "df_summer = df_comparison[df_comparison['season'] == 0]\n",
    "df_summer2 = df_summer.groupby(['year', 'is_host'])['total'].sum()\n",
    "df_summer2 = pd.DataFrame(df_summer2)\n",
    "df_summer2.reset_index(inplace=True)\n",
    "df_summer2.head()"
   ]
  },
  {
   "cell_type": "markdown",
   "metadata": {},
   "source": [
    "<strong><i>Does being a host country appear to furnish an advantage?</i></strong>\n",
    "<br>\n",
    "For most years, the host country wins medals. The number of medals won by the host country appears to be more sizable during the summer games than the winter ones. Though some countries are repeatedly hosting the games and could simply be strong contenders, it is likely still an influential factor. We will include is_host and season as two binary variables to capture this potential effect. \n"
   ]
  },
  {
   "cell_type": "code",
   "execution_count": null,
   "metadata": {},
   "outputs": [],
   "source": [
    "#plot summer games\n",
    "plt.figure(figsize=(12, 8))\n",
    "sns.barplot(x='total', y='year', hue='is_host', data=df_summer2, dodge=False, ci=None,palette={1: 'mediumvioletred', 0: 'lightseagreen'}, orient='h')\n",
    "plt.title('Total Medal Count by Year')\n",
    "plt.xlabel('Total Medals')\n",
    "plt.ylabel('Year')\n",
    "plt.show()"
   ]
  },
  {
   "cell_type": "code",
   "execution_count": null,
   "metadata": {},
   "outputs": [],
   "source": [
    "#plot winter games\n",
    "\n",
    "df_winter = df_comparison[df_comparison['season'] == 1]\n",
    "df_winter2 = df_winter.groupby(['year', 'is_host'])['total'].sum()\n",
    "df_winter2 = pd.DataFrame(df_winter2)\n",
    "df_winter2.reset_index(inplace=True)\n",
    "df_winter2.head()"
   ]
  },
  {
   "cell_type": "code",
   "execution_count": null,
   "metadata": {},
   "outputs": [],
   "source": [
    "\n",
    "plt.figure(figsize=(12, 8))\n",
    "sns.barplot(x='total', y='year', hue='is_host', data=df_winter2, dodge=False, ci=None,palette={1: 'cornflowerblue', 0: 'peachpuff'}, orient='h')\n",
    "plt.title('Total Medal Count by Year')\n",
    "plt.xlabel('Total Medals')\n",
    "plt.ylabel('Year')\n",
    "plt.show()"
   ]
  },
  {
   "cell_type": "code",
   "execution_count": null,
   "metadata": {},
   "outputs": [],
   "source": [
    "#lets explore the summer games by excluding usa \n",
    "\n",
    "df_summer_nousa = df_comparison[(df_comparison['season'] == 0) & (df_comparison['country_performing'] != 'United States')]\n",
    "df_summer_nousa2 = df_summer_nousa.groupby(['year', 'is_host'])['total'].sum()\n",
    "df_summer_nousa2= pd.DataFrame(df_summer_nousa2)\n",
    "df_summer_nousa2.reset_index(inplace=True)\n",
    "df_summer_nousa2.head()"
   ]
  },
  {
   "cell_type": "code",
   "execution_count": null,
   "metadata": {},
   "outputs": [],
   "source": [
    "plt.figure(figsize=(12, 8))\n",
    "sns.barplot(x='total', y='year', hue='is_host', data=df_summer_nousa2, dodge=False, ci=None,palette={1: 'mediumvioletred', 0: 'lightseagreen'}, orient='h')\n",
    "plt.title('Total Medal Count by Year')\n",
    "plt.xlabel('Total Medals')\n",
    "plt.ylabel('Year')\n",
    "plt.show()"
   ]
  },
  {
   "cell_type": "markdown",
   "metadata": {},
   "source": [
    "<strong> Start building model:</strong>"
   ]
  },
  {
   "cell_type": "code",
   "execution_count": null,
   "metadata": {},
   "outputs": [],
   "source": [
    "def plot_residuals(actual_values, predicted_values, title='Residual Plot'):  \n",
    "    sns.set_style('darkgrid')\n",
    "    residuals = actual_values - predicted_values\n",
    "\n",
    "    plt.figure(figsize=(5, 3))\n",
    "    sns.scatterplot(x=actual_values, y=residuals, color='lightblue')\n",
    "    plt.axhline(y=0, color='red', linestyle='--')\n",
    "\n",
    "    plt.title(f'{title}', fontsize=12)\n",
    "    plt.xlabel('Actual Values', fontsize=10)\n",
    "    plt.ylabel('Residuals', fontsize=10)\n",
    "    plt.grid(True)\n",
    "    plt.show()"
   ]
  },
  {
   "cell_type": "code",
   "execution_count": null,
   "metadata": {},
   "outputs": [],
   "source": [
    "results = []"
   ]
  },
  {
   "cell_type": "code",
   "execution_count": null,
   "metadata": {},
   "outputs": [],
   "source": [
    "def record_results(model):\n",
    "    global results\n",
    "    results.append({\n",
    "        'model':f'{model}',\n",
    "        'MSE train': f'{mse_train}',\n",
    "        'MSE test': f'{mse_test}',\n",
    "        'RMSE train': f'{np.sqrt(mse_train)}',\n",
    "        'RMSE test': f'{np.sqrt(mse_test)}',\n",
    "        'R2 train': f'{r2_score(y_train, base_train_predictions)}',\n",
    "        'R2 test': f'{r2_score(y_test, base_predictions)}'\n",
    "    })\n",
    "    print('results recorded')"
   ]
  },
  {
   "cell_type": "code",
   "execution_count": null,
   "metadata": {},
   "outputs": [],
   "source": [
    "#Building a baseline model\n",
    "\n",
    "#Model 1: Using data for the 2020 Olympics only\n",
    "\n",
    "#start building df to predict medal count at the 2024 summer games\n",
    "\n",
    "#feel free to change any of this, remove or add other variables.etc., haven't scaled or anything, this was just to test\n",
    "\n",
    "df_games_medals['is_host'] = np.where(df_games_medals['country_host'] == df_games_medals['country_performing'], 1, 0)\n",
    "\n",
    "#add gdp and population-using already processed df saved in the data folder\n",
    "\n",
    "df_gdp_pop = pd.merge(df_gdp_mean,df_pop_mean, on='country_noc', how='left')\n",
    "df_gdp_pop.drop(['country_x', 'Country Code_x', 'country_y', 'Country Code_y'], axis=1, inplace=True)"
   ]
  },
  {
   "cell_type": "code",
   "execution_count": null,
   "metadata": {},
   "outputs": [],
   "source": [
    "#cols for model\n",
    "df_cols = df_games_medals[['year','edition', 'country_noc_performing', 'gold', 'silver', 'bronze','total', 'is_host']]"
   ]
  },
  {
   "cell_type": "code",
   "execution_count": null,
   "metadata": {},
   "outputs": [],
   "source": [
    "df_cols.rename({'country_noc_performing':'country_noc'}, axis=1, inplace=True)\n",
    "df_cols.head()"
   ]
  },
  {
   "cell_type": "code",
   "execution_count": null,
   "metadata": {},
   "outputs": [],
   "source": [
    "#merge\n",
    "df_model = pd.merge(df_cols, df_gdp_pop[['country_noc','mean_gdp_last_10yr_bn', 'mean_pop_last_10yr_mm']], on='country_noc', how='left')\n"
   ]
  },
  {
   "cell_type": "code",
   "execution_count": null,
   "metadata": {},
   "outputs": [],
   "source": [
    "#add contingent size \n",
    "contingent_size = df_event_results.groupby(['edition', 'country_noc'], as_index=False)['athlete'].nunique()\n",
    "\n",
    "df_model2 = pd.merge(df_model, contingent_size[['edition','country_noc','athlete']], on=['edition','country_noc'], how='left')\n",
    "df_model2.head()"
   ]
  },
  {
   "cell_type": "code",
   "execution_count": null,
   "metadata": {},
   "outputs": [],
   "source": [
    "df_model2.rename({'athlete':'contingent_size'}, axis=1,inplace=True)"
   ]
  },
  {
   "cell_type": "code",
   "execution_count": null,
   "metadata": {},
   "outputs": [],
   "source": [
    "#number of events they participate in\n",
    "\n",
    "event_participation =  df_event_results.groupby(['edition', 'country_noc'], \n",
    "                                                                 as_index=False)['event'].nunique()\n",
    "\n",
    "df_model3 = pd.merge(df_model2, event_participation[['edition','country_noc','event']], on=['edition','country_noc'], how='left')\n",
    "df_model3.rename({'event':'event_count'}, axis=1, inplace=True)\n",
    "df_model3.head()"
   ]
  },
  {
   "cell_type": "code",
   "execution_count": null,
   "metadata": {},
   "outputs": [],
   "source": [
    "#has country won medals in the past\n",
    "\n",
    "prior_medals = pd.DataFrame(df_medals.groupby('country_noc')['total'].sum())\n",
    "prior_medals.reset_index(inplace=True)\n",
    "prior_medals.head()"
   ]
  },
  {
   "cell_type": "code",
   "execution_count": null,
   "metadata": {},
   "outputs": [],
   "source": [
    "#add dummy\n",
    "prior_medals['prior_medals'] = (prior_medals['total'] > 0).astype(int)"
   ]
  },
  {
   "cell_type": "code",
   "execution_count": null,
   "metadata": {},
   "outputs": [],
   "source": [
    "#using 2020 data only\n",
    "df_2020 = df_model3.loc[df_model3['year']==2020]"
   ]
  },
  {
   "cell_type": "code",
   "execution_count": null,
   "metadata": {},
   "outputs": [],
   "source": [
    "df_2020.drop(['year', 'edition', 'gold', 'silver', 'bronze'], axis=1, inplace=True)"
   ]
  },
  {
   "cell_type": "code",
   "execution_count": null,
   "metadata": {},
   "outputs": [],
   "source": [
    "#add medals in prior games \n",
    "\n",
    "df_medals_2016= df_medals.loc[df_medals['year']==2016]\n",
    "df_medals_2016.rename({'total':'2016_medals'}, axis=1, inplace=True)"
   ]
  },
  {
   "cell_type": "code",
   "execution_count": null,
   "metadata": {},
   "outputs": [],
   "source": [
    "#merge\n",
    "df_2020_base = pd.merge(df_2020, df_medals_2016[['country_noc', '2016_medals']], how ='left', on=['country_noc'])\n",
    "df_2020_base.head()"
   ]
  },
  {
   "cell_type": "code",
   "execution_count": null,
   "metadata": {},
   "outputs": [],
   "source": [
    "df_2020_base['2016_medals'].fillna(0, inplace=True)"
   ]
  },
  {
   "cell_type": "code",
   "execution_count": null,
   "metadata": {},
   "outputs": [],
   "source": [
    "df_2020_base.dropna(inplace=True)"
   ]
  },
  {
   "cell_type": "code",
   "execution_count": null,
   "metadata": {},
   "outputs": [],
   "source": [
    "df_2020_base.rename({'total':'total_medals'}, axis=1, inplace=True)"
   ]
  },
  {
   "cell_type": "code",
   "execution_count": null,
   "metadata": {},
   "outputs": [],
   "source": [
    "df_2020_base = pd.merge(df_2020_base, prior_medals[['country_noc', 'prior_medals']], \n",
    "                        on='country_noc', how='left')"
   ]
  },
  {
   "cell_type": "code",
   "execution_count": null,
   "metadata": {},
   "outputs": [],
   "source": [
    "#run a basic linear reg model\n",
    "X = df_2020_base[['is_host', 'mean_gdp_last_10yr_bn', 'mean_pop_last_10yr_mm', 'contingent_size',\n",
    "            'event_count', '2016_medals', 'prior_medals']]\n",
    "y = df_2020_base['total_medals']\n",
    "\n",
    "X_train, X_test, y_train, y_test = train_test_split( \n",
    "    X, y, test_size=0.25, random_state=101) "
   ]
  },
  {
   "cell_type": "code",
   "execution_count": null,
   "metadata": {},
   "outputs": [],
   "source": [
    "base_model = LinearRegression()\n",
    "base_model.fit(X_train, y_train)\n",
    "base_predictions = base_model.predict(X_test)"
   ]
  },
  {
   "cell_type": "code",
   "execution_count": null,
   "metadata": {},
   "outputs": [],
   "source": [
    "mse_test = mean_squared_error(y_test, base_predictions)\n",
    "print(mse_test)"
   ]
  },
  {
   "cell_type": "code",
   "execution_count": null,
   "metadata": {},
   "outputs": [],
   "source": [
    "base_train_predictions = base_model.predict(X_train)\n",
    "mse_train = mean_squared_error(y_train, base_train_predictions)\n",
    "print(mse_train)"
   ]
  },
  {
   "cell_type": "code",
   "execution_count": null,
   "metadata": {},
   "outputs": [],
   "source": [
    "#add predictions to df \n",
    "df_2020_base['predicted_total_medals'] = base_model.predict(X)\n",
    "df_2020_base.head()"
   ]
  },
  {
   "cell_type": "code",
   "execution_count": null,
   "metadata": {},
   "outputs": [],
   "source": [
    "coefficients = base_model.coef_\n",
    "\n",
    "# coefficients with their corresponding feature names\n",
    "coef_df = pd.DataFrame({'Feature': X.columns, 'Coefficient': coefficients})\n",
    "\n",
    "print(coef_df)"
   ]
  },
  {
   "cell_type": "code",
   "execution_count": null,
   "metadata": {},
   "outputs": [],
   "source": [
    "plot_residuals(y_test, base_predictions, title='Residual Plot Base 2020 LR Model')"
   ]
  },
  {
   "cell_type": "code",
   "execution_count": null,
   "metadata": {},
   "outputs": [],
   "source": [
    "record_results(model='Base 2020 LR')"
   ]
  },
  {
   "cell_type": "code",
   "execution_count": null,
   "metadata": {},
   "outputs": [],
   "source": [
    "#Model 2- exlcuding USA, just testing if there is any improvement\n",
    "\n",
    "\n",
    "df_2020_wo_usa = df_2020_base.loc[df_2020_base['country_noc']!= 'USA']\n",
    "\n",
    "X = df_2020_wo_usa[['is_host', 'mean_gdp_last_10yr_bn', 'mean_pop_last_10yr_mm', 'contingent_size',\n",
    "            'event_count', '2016_medals', 'prior_medals']]\n",
    "y = df_2020_wo_usa['total_medals']\n",
    "\n",
    "X_train, X_test, y_train, y_test = train_test_split( \n",
    "    X, y, test_size=0.25, random_state=101) "
   ]
  },
  {
   "cell_type": "code",
   "execution_count": null,
   "metadata": {},
   "outputs": [],
   "source": [
    "base_model = LinearRegression()\n",
    "base_model.fit(X_train, y_train)\n",
    "base_predictions = base_model.predict(X_test)"
   ]
  },
  {
   "cell_type": "code",
   "execution_count": null,
   "metadata": {},
   "outputs": [],
   "source": [
    "mse_test = mean_squared_error(y_test, base_predictions)\n",
    "print(mse_test)"
   ]
  },
  {
   "cell_type": "code",
   "execution_count": null,
   "metadata": {},
   "outputs": [],
   "source": [
    "base_train_predictions = base_model.predict(X_train)\n",
    "mse_train = mean_squared_error(y_train, base_train_predictions)\n",
    "print(mse_train)"
   ]
  },
  {
   "cell_type": "code",
   "execution_count": null,
   "metadata": {},
   "outputs": [],
   "source": [
    "plot_residuals(y_test, base_predictions, title='Residual Plot Base 2020 LR Model')"
   ]
  },
  {
   "cell_type": "code",
   "execution_count": null,
   "metadata": {},
   "outputs": [],
   "source": [
    "record_results(model='Base 2020 LR no USA')"
   ]
  },
  {
   "cell_type": "code",
   "execution_count": null,
   "metadata": {},
   "outputs": [],
   "source": [
    "coefficients = base_model.coef_\n",
    "\n",
    "# coefficients with their corresponding feature names\n",
    "coef_df = pd.DataFrame({'Feature': X.columns, 'Coefficient': coefficients})\n",
    "\n",
    "print(coef_df)"
   ]
  },
  {
   "cell_type": "code",
   "execution_count": null,
   "metadata": {},
   "outputs": [],
   "source": [
    "# Model 2: Trying with all the years instead of just 2020"
   ]
  },
  {
   "cell_type": "code",
   "execution_count": null,
   "metadata": {},
   "outputs": [],
   "source": [
    "# adding the season dummy \n",
    "df_model3['winter'] = [1 if 'Winter' in edition else 0 for edition in df_model3['edition']]"
   ]
  },
  {
   "cell_type": "code",
   "execution_count": null,
   "metadata": {},
   "outputs": [],
   "source": [
    "# merging \n",
    "df_model3 = df_model3.merge(prior_medals[['country_noc', 'prior_medals']], on='country_noc')"
   ]
  },
  {
   "cell_type": "code",
   "execution_count": null,
   "metadata": {},
   "outputs": [],
   "source": [
    "previous_year_df = df_model3.groupby(['country_noc', 'year', 'winter'], as_index=False)['total'].sum()"
   ]
  },
  {
   "cell_type": "code",
   "execution_count": null,
   "metadata": {},
   "outputs": [],
   "source": [
    "# we need this dataframe to add the previous year's(event's) medal total to the current year's\n",
    "previous_year_df['year'] = previous_year_df['year']+4"
   ]
  },
  {
   "cell_type": "code",
   "execution_count": null,
   "metadata": {},
   "outputs": [],
   "source": [
    "previous_year_df.rename(columns={'total':'previous_year_medals'}, inplace=True)"
   ]
  },
  {
   "cell_type": "code",
   "execution_count": null,
   "metadata": {},
   "outputs": [],
   "source": [
    "df_model3 = df_model3.merge(previous_year_df, on=['country_noc', 'year', 'winter'], how='left')"
   ]
  },
  {
   "cell_type": "code",
   "execution_count": null,
   "metadata": {},
   "outputs": [],
   "source": [
    "df_model3['previous_year_medals'].fillna(0, inplace=True)"
   ]
  },
  {
   "cell_type": "code",
   "execution_count": null,
   "metadata": {},
   "outputs": [],
   "source": [
    "df_model3.drop(['edition', 'gold', 'silver', 'bronze'], axis=1, inplace=True)"
   ]
  },
  {
   "cell_type": "code",
   "execution_count": null,
   "metadata": {},
   "outputs": [],
   "source": [
    "# we will switch to a data source that has these missing values in the future and deletion wont be needed\n",
    "df_model3.dropna(inplace=True)"
   ]
  },
  {
   "cell_type": "code",
   "execution_count": null,
   "metadata": {},
   "outputs": [],
   "source": [
    "X = df_model3[['year','is_host', 'mean_gdp_last_10yr_bn', 'mean_pop_last_10yr_mm', 'contingent_size',\n",
    "            'event_count', 'previous_year_medals', 'prior_medals',\n",
    "              'winter']]\n",
    "\n",
    "y = df_model3['total']\n",
    "\n",
    "X_train, X_test, y_train, y_test = train_test_split( \n",
    "    X, y, test_size=0.25, random_state=101, stratify=df_model3['year']) "
   ]
  },
  {
   "cell_type": "code",
   "execution_count": null,
   "metadata": {},
   "outputs": [],
   "source": [
    "base_model.fit(X_train, y_train)\n",
    "base_predictions = base_model.predict(X_test)"
   ]
  },
  {
   "cell_type": "code",
   "execution_count": null,
   "metadata": {},
   "outputs": [],
   "source": [
    "mse_test = mean_squared_error(y_test, base_predictions)\n",
    "print(np.sqrt(mse_test), mse_test) "
   ]
  },
  {
   "cell_type": "code",
   "execution_count": null,
   "metadata": {},
   "outputs": [],
   "source": [
    "base_train_predictions = base_model.predict(X_train)\n",
    "mse_train = mean_squared_error(y_train, base_train_predictions)\n",
    "print(np.sqrt(mse_train), mse_train) "
   ]
  },
  {
   "cell_type": "code",
   "execution_count": null,
   "metadata": {},
   "outputs": [],
   "source": [
    "coefficients = base_model.coef_\n",
    "\n",
    "# coefficients with their corresponding feature names\n",
    "coef_df = pd.DataFrame({'Feature': X.columns, 'Coefficient': coefficients})\n",
    "\n",
    "coef_df"
   ]
  },
  {
   "cell_type": "code",
   "execution_count": null,
   "metadata": {},
   "outputs": [],
   "source": [
    "plot_residuals(y_test, base_predictions, title='Residual Plot Test All Years Model')\n",
    "plot_residuals(y_train, base_train_predictions)"
   ]
  },
  {
   "cell_type": "code",
   "execution_count": null,
   "metadata": {},
   "outputs": [],
   "source": [
    "record_results(model='Base all years LR')"
   ]
  },
  {
   "cell_type": "code",
   "execution_count": null,
   "metadata": {},
   "outputs": [],
   "source": [
    "pd.DataFrame(results).T"
   ]
  },
  {
   "cell_type": "markdown",
   "metadata": {},
   "source": [
    "<strong> Evaluation </strong>"
   ]
  },
  {
   "cell_type": "code",
   "execution_count": null,
   "metadata": {},
   "outputs": [],
   "source": [
    "# modify and add however u like!! not convinced everything is correct either"
   ]
  },
  {
   "cell_type": "markdown",
   "metadata": {},
   "source": [
    "The base LR model using 2020 data performs best in terms of MSE, especially when dropping the US as a country. The magnitude of the errors is lower, and the number of medals predicted go from being off by 6.5 to 6.3 (decimals are a result of using a linear regression model on count data). However, the difference between the train and test MSEs in the second fitting that drops the USA is larger. Since such a significant outlier was removed, the model is perhaps overfitting on noise that it can now better perceive. Some collinearity between variables like contingent size and event count, prior medals and previous year medals, etc. could also contribute. The R2 for the fitting without the USA is lower than that of the first, possibly because removing a row of data in a small dataset can cause information loss that affects the overall goodness of fit. Meanwhile, the base model applied to all years performs the worst, with a larger difference in train-test scores and generally worse metrics. \n",
    "\n",
    "Considering that the assumptions of linear regression are violated (e.g. heteroscedasticity, independence of observations, possible collinearity, etc.), this base model performs well. Going forward, it will be important to address the time component of the data (whether it means focusing on a smaller dataset or using all years) and the treatment of outliers like the USA (e.g., taking the log may improve the model). Moreover, since the model performs well initially, the possibilty of information leakage exists; the model may be capable of inferring a certain year's medal count based on the medal counts available for that year in the training data. \n",
    "\n",
    "Data size is another aspect: if only one year is used, the data shrinks to around 80 rows, which is not a robust number. We may need to explore data generation/oversampling techniques, or find a time-series appropriate solution that allows the use of more years. In terms of modelling, we look forward to exploring methods for count data, such as random forest, gradient boosting, poisson regression, etc. \n",
    "\n",
    "This base model furnishes a first glimpse of the feature importances. Being a host increases the medal tally by 1.5, all things equal, while winter seems to decrease it by 1.1. Previous year medals and contingent size also have a somewhat smaller, positive contribution. Applied to 2020 data, the important features become the number of events partaken in. Interestingly, the sign switches for 2016_medals after removing the USA; they are decreasing the the medals won by a country in 2020. We are currently working on adding more variables, for example related to climate, pollution, distance to the host country, etc. These are country inherent characteristics that are likely to impact the performance of athletes and in turn, the total medals. "
   ]
  },
  {
   "cell_type": "code",
   "execution_count": null,
   "metadata": {},
   "outputs": [],
   "source": [
    "# add pollution variable (greenhouse gas emissions) \n",
    "ghg_df = pd.read_excel('data/raw/GHG.xlsx', sheet_name='GHG_per_capita_by_country')"
   ]
  },
  {
   "cell_type": "code",
   "execution_count": null,
   "metadata": {
    "scrolled": true
   },
   "outputs": [],
   "source": [
    "# ghg_df.isna().sum() no missing values "
   ]
  },
  {
   "cell_type": "code",
   "execution_count": null,
   "metadata": {},
   "outputs": [],
   "source": [
    "ghg_df.drop(columns='Country', inplace=True)"
   ]
  },
  {
   "cell_type": "code",
   "execution_count": null,
   "metadata": {},
   "outputs": [],
   "source": [
    "ghg_df = pd.melt(ghg_df, id_vars=['EDGAR Country Code'], var_name='year', value_name='ghg_per_capita')"
   ]
  },
  {
   "cell_type": "code",
   "execution_count": null,
   "metadata": {},
   "outputs": [],
   "source": [
    "ghg_df['year'] = ghg_df['year'].astype(int)"
   ]
  },
  {
   "cell_type": "code",
   "execution_count": null,
   "metadata": {},
   "outputs": [],
   "source": [
    "# KOS = SERBIA?"
   ]
  },
  {
   "cell_type": "code",
   "execution_count": null,
   "metadata": {},
   "outputs": [],
   "source": [
    "country_code_mappings = {'GRC':'GRE',\n",
    " 'DEU':'GER',\n",
    " 'DNK':'DEN',\n",
    " 'CHE':'SUI',\n",
    " 'NLD':'NED',\n",
    " 'ZAF':'RSA',\n",
    " 'URY':'URU',\n",
    " 'PRT':'POR',\n",
    " 'CHL':'CHI',\n",
    " 'PHL':'PHI',\n",
    " 'LVA':'LAT',\n",
    " 'LKA':'SRI',\n",
    " 'IRN':'IRI',\n",
    " 'PRI':'PUR',\n",
    " 'BGR':'BUL',\n",
    " 'NGA':'NGR',\n",
    " 'MNG':'MGL',\n",
    " 'NER':'NIG',\n",
    " 'BMU':'BER',\n",
    " 'ZWE':'ZIM',\n",
    " 'DZA':'ALG',\n",
    " 'ZMB':'ZAM',\n",
    " 'CRI':'CRC',\n",
    " 'IDN':'INA',\n",
    " 'HRV':'CRO',\n",
    " 'SVN':'SLO',\n",
    " 'MYS':'MAS',\n",
    " 'TON':'TGA',\n",
    " 'SAU':'KSA',\n",
    " 'VNM':'VIE',\n",
    " 'BRB':'BAR',\n",
    " 'KWT':'KUW',\n",
    " 'ARE':'UAE',\n",
    " 'PRY':'PAR',\n",
    " 'SCG':'SRB',\n",
    " 'WSM':'SAM',\n",
    " 'SDN':'SUD',\n",
    " 'MUS':'MRI',\n",
    " 'TGO':'TOG',\n",
    " 'GRD':'GRN',\n",
    " 'BWA':'BOT',\n",
    " 'GTM':'GUA',\n",
    " 'SCG':'MNE',\n",
    " 'FJI':'FIJ',\n",
    " 'ITA':'SMR',\n",
    " 'BFA':'BUR'}"
   ]
  },
  {
   "cell_type": "code",
   "execution_count": null,
   "metadata": {},
   "outputs": [],
   "source": [
    "ghg_df.replace(country_code_mappings, inplace=True)"
   ]
  },
  {
   "cell_type": "code",
   "execution_count": null,
   "metadata": {},
   "outputs": [],
   "source": [
    "# just using this to get the country_noc > country map to compare with the one in the greenhouse gas data ones\n",
    "df_model3.merge(df_country, on='country_noc', how='left').groupby(['country_noc', 'country'], as_index=False).count()"
   ]
  },
  {
   "cell_type": "code",
   "execution_count": null,
   "metadata": {},
   "outputs": [],
   "source": [
    "# getting unmatched country ids even though theyre in both datasets ahh\n",
    "df_model3 = df_model3.merge(ghg_df, how='left', left_on=['country_noc', 'year'], right_on=['EDGAR Country Code', 'year'])"
   ]
  },
  {
   "cell_type": "code",
   "execution_count": null,
   "metadata": {
    "scrolled": true
   },
   "outputs": [],
   "source": [
    "df_model3[(df_model3['year']>1970)&df_model3.isna().any(axis=1)]['country_noc'].unique()"
   ]
  },
  {
   "cell_type": "code",
   "execution_count": null,
   "metadata": {},
   "outputs": [],
   "source": [
    "ghg_df['EDGAR Country Code'].unique()"
   ]
  }
 ],
 "metadata": {
  "kernelspec": {
   "display_name": "my_kernel_name",
   "language": "python",
   "name": "my_kernel_name"
  },
  "language_info": {
   "codemirror_mode": {
    "name": "ipython",
    "version": 3
   },
   "file_extension": ".py",
   "mimetype": "text/x-python",
   "name": "python",
   "nbconvert_exporter": "python",
   "pygments_lexer": "ipython3",
   "version": "3.10.13"
  },
  "varInspector": {
   "cols": {
    "lenName": 16,
    "lenType": 16,
    "lenVar": 40
   },
   "kernels_config": {
    "python": {
     "delete_cmd_postfix": "",
     "delete_cmd_prefix": "del ",
     "library": "var_list.py",
     "varRefreshCmd": "print(var_dic_list())"
    },
    "r": {
     "delete_cmd_postfix": ") ",
     "delete_cmd_prefix": "rm(",
     "library": "var_list.r",
     "varRefreshCmd": "cat(var_dic_list()) "
    }
   },
   "types_to_exclude": [
    "module",
    "function",
    "builtin_function_or_method",
    "instance",
    "_Feature"
   ],
   "window_display": false
  }
 },
 "nbformat": 4,
 "nbformat_minor": 5
}
